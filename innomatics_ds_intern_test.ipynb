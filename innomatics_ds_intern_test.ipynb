{
 "cells": [
  {
   "cell_type": "code",
   "execution_count": 1,
   "id": "d465492c",
   "metadata": {},
   "outputs": [
    {
     "name": "stdout",
     "output_type": "stream",
     "text": [
      "Links DataFrame:\n",
      "   movieId  imdbId   tmdbId\n",
      "0        1  114709    862.0\n",
      "1        2  113497   8844.0\n",
      "2        3  113228  15602.0\n",
      "3        4  114885  31357.0\n",
      "4        5  113041  11862.0\n",
      "\n",
      "Movies DataFrame:\n",
      "   movieId                               title  \\\n",
      "0        1                    Toy Story (1995)   \n",
      "1        2                      Jumanji (1995)   \n",
      "2        3             Grumpier Old Men (1995)   \n",
      "3        4            Waiting to Exhale (1995)   \n",
      "4        5  Father of the Bride Part II (1995)   \n",
      "\n",
      "                                        genres  \n",
      "0  Adventure|Animation|Children|Comedy|Fantasy  \n",
      "1                   Adventure|Children|Fantasy  \n",
      "2                               Comedy|Romance  \n",
      "3                         Comedy|Drama|Romance  \n",
      "4                                       Comedy  \n",
      "\n",
      "Ratings DataFrame:\n",
      "   userId  movieId  rating  timestamp\n",
      "0       1        1     4.0  964982703\n",
      "1       1        3     4.0  964981247\n",
      "2       1        6     4.0  964982224\n",
      "3       1       47     5.0  964983815\n",
      "4       1       50     5.0  964982931\n",
      "\n",
      "Tags DataFrame:\n",
      "   userId  movieId              tag   timestamp\n",
      "0       2    60756            funny  1445714994\n",
      "1       2    60756  Highly quotable  1445714996\n",
      "2       2    60756     will ferrell  1445714992\n",
      "3       2    89774     Boxing story  1445715207\n",
      "4       2    89774              MMA  1445715200\n"
     ]
    }
   ],
   "source": [
    "import pandas as pd\n",
    "\n",
    "links_path = 'links.csv'\n",
    "movies_path = 'movies.csv'\n",
    "ratings_path = 'ratings.csv'\n",
    "tags_path = 'tags.csv'\n",
    "\n",
    "\n",
    "links_df = pd.read_csv(links_path)\n",
    "movies_df = pd.read_csv(movies_path)\n",
    "ratings_df = pd.read_csv(ratings_path)\n",
    "tags_df = pd.read_csv(tags_path)\n",
    "\n",
    "\n",
    "\n",
    "\n",
    "print(\"Links DataFrame:\")\n",
    "print(links_df.head())\n",
    "\n",
    "print(\"\\nMovies DataFrame:\")\n",
    "print(movies_df.head())\n",
    "\n",
    "print(\"\\nRatings DataFrame:\")\n",
    "print(ratings_df.head())\n",
    "\n",
    "print(\"\\nTags DataFrame:\")\n",
    "print(tags_df.head())\n"
   ]
  },
  {
   "cell_type": "code",
   "execution_count": 4,
   "id": "5e10e3b8",
   "metadata": {},
   "outputs": [
    {
     "name": "stdout",
     "output_type": "stream",
     "text": [
      "The movie with the maximum number of user ratings is: Forrest Gump (1994) (movieId: 356)\n"
     ]
    }
   ],
   "source": [
    "import pandas as pd\n",
    "\n",
    "\n",
    "ratings_df = pd.read_csv('ratings.csv')\n",
    "movies_df = pd.read_csv('movies.csv')\n",
    "\n",
    "\n",
    "merged_df = pd.merge(ratings_df, movies_df, on='movieId')\n",
    "\n",
    "\n",
    "movie_ratings_count = merged_df.groupby('movieId')['rating'].count()\n",
    "\n",
    "\n",
    "max_ratings_movie_id = movie_ratings_count.idxmax()\n",
    "\n",
    "\n",
    "max_ratings_movie_title = movies_df[movies_df['movieId'] == max_ratings_movie_id]['title'].iloc[0]\n",
    "\n",
    "\n",
    "print(f\"The movie with the maximum number of user ratings is: {max_ratings_movie_title} (movieId: {max_ratings_movie_id})\")\n"
   ]
  },
  {
   "cell_type": "code",
   "execution_count": 5,
   "id": "58e6d059",
   "metadata": {},
   "outputs": [
    {
     "name": "stdout",
     "output_type": "stream",
     "text": [
      "The tags for 'Matrix, The (1999)' movie are:\n",
      "815           martial arts\n",
      "816                 sci-fi\n",
      "1646    alternate universe\n",
      "2794            philosophy\n",
      "2795      post apocalyptic\n",
      "Name: tag, dtype: object\n"
     ]
    }
   ],
   "source": [
    "import pandas as pd\n",
    "\n",
    "\n",
    "tags_df = pd.read_csv('tags.csv')\n",
    "movies_df = pd.read_csv('movies.csv')\n",
    "\n",
    "\n",
    "matrix_movie_id = movies_df[movies_df['title'] == 'Matrix, The (1999)']['movieId'].iloc[0]\n",
    "\n",
    "\n",
    "matrix_tags = tags_df[tags_df['movieId'] == matrix_movie_id]\n",
    "\n",
    "\n",
    "print(f\"The tags for 'Matrix, The (1999)' movie are:\")\n",
    "print(matrix_tags['tag'])\n"
   ]
  },
  {
   "cell_type": "code",
   "execution_count": 6,
   "id": "e983f5ad",
   "metadata": {},
   "outputs": [
    {
     "name": "stdout",
     "output_type": "stream",
     "text": [
      "The average user rating for 'Terminator 2: Judgment Day (1991)' is: 3.97\n"
     ]
    }
   ],
   "source": [
    "import pandas as pd\n",
    "\n",
    "\n",
    "ratings_df = pd.read_csv('ratings.csv')\n",
    "movies_df = pd.read_csv('movies.csv')\n",
    "\n",
    "\n",
    "terminator_movie_id = movies_df[movies_df['title'] == 'Terminator 2: Judgment Day (1991)']['movieId'].iloc[0]\n",
    "\n",
    "\n",
    "terminator_ratings = ratings_df[ratings_df['movieId'] == terminator_movie_id]\n",
    "\n",
    "\n",
    "average_rating = terminator_ratings['rating'].mean()\n",
    "\n",
    "print(f\"The average user rating for 'Terminator 2: Judgment Day (1991)' is: {average_rating:.2f}\")\n"
   ]
  },
  {
   "cell_type": "code",
   "execution_count": 7,
   "id": "00a026d4",
   "metadata": {},
   "outputs": [
    {
     "data": {
      "image/png": "[encoded data removed]",
      "text/plain": [
       "<Figure size 720x432 with 1 Axes>"
      ]
     },
     "metadata": {
      "needs_background": "light"
     },
     "output_type": "display_data"
    }
   ],
   "source": [
    "import pandas as pd\n",
    "import matplotlib.pyplot as plt\n",
    "\n",
    "\n",
    "ratings_df = pd.read_csv('ratings.csv')\n",
    "movies_df = pd.read_csv('movies.csv')\n",
    "\n",
    "\n",
    "fight_club_movie_id = movies_df[movies_df['title'] == 'Fight Club (1999)']['movieId'].iloc[0]\n",
    "\n",
    "\n",
    "fight_club_ratings = ratings_df[ratings_df['movieId'] == fight_club_movie_id]\n",
    "\n",
    "\n",
    "plt.figure(figsize=(10, 6))\n",
    "plt.hist(fight_club_ratings['rating'], bins=[0.5, 1.5, 2.5, 3.5, 4.5, 5.5], edgecolor='black')\n",
    "plt.title('User Ratings Distribution for \"Fight Club (1999)\"')\n",
    "plt.xlabel('Rating')\n",
    "plt.ylabel('Number of Ratings')\n",
    "plt.xticks([1, 2, 3, 4, 5])\n",
    "plt.grid(axis='y', linestyle='--', alpha=0.7)\n",
    "\n",
    "\n",
    "plt.show()\n"
   ]
  },
  {
   "cell_type": "code",
   "execution_count": 8,
   "id": "1f82ae1a",
   "metadata": {},
   "outputs": [
    {
     "name": "stdout",
     "output_type": "stream",
     "text": [
      "   movieId                    title  \\\n",
      "0        1         Toy Story (1995)   \n",
      "1        2           Jumanji (1995)   \n",
      "2        3  Grumpier Old Men (1995)   \n",
      "5        6              Heat (1995)   \n",
      "6        7           Sabrina (1995)   \n",
      "\n",
      "                                        genres  rating_count  rating_mean  \n",
      "0  Adventure|Animation|Children|Comedy|Fantasy           215     3.920930  \n",
      "1                   Adventure|Children|Fantasy           110     3.431818  \n",
      "2                               Comedy|Romance            52     3.259615  \n",
      "5                        Action|Crime|Thriller           102     3.946078  \n",
      "6                               Comedy|Romance            54     3.185185  \n"
     ]
    }
   ],
   "source": [
    "import pandas as pd\n",
    "\n",
    "\n",
    "ratings_df = pd.read_csv('ratings.csv')\n",
    "movies_df = pd.read_csv('movies.csv')\n",
    "\n",
    "\n",
    "grouped_ratings = ratings_df.groupby('movieId').agg({'rating': ['count', 'mean']}).reset_index()\n",
    "grouped_ratings.columns = ['movieId', 'rating_count', 'rating_mean']\n",
    "\n",
    "\n",
    "merged_df = pd.merge(movies_df, grouped_ratings, on='movieId', how='inner')\n",
    "\n",
    "\n",
    "filtered_df = merged_df[merged_df['rating_count'] > 50]\n",
    "\n",
    "print(filtered_df.head())\n"
   ]
  },
  {
   "cell_type": "code",
   "execution_count": 10,
   "id": "62970f36",
   "metadata": {},
   "outputs": [
    {
     "name": "stdout",
     "output_type": "stream",
     "text": [
      "The most popular movie based on average user ratings is: Shawshank Redemption, The (1994) (1994)\n"
     ]
    }
   ],
   "source": [
    "\n",
    "\n",
    "#highest average user rating\n",
    "most_popular_movie = filtered_df.loc[filtered_df['rating_mean'].idxmax()]\n",
    "\n",
    "# Extract the year from the 'title' column\n",
    "title_parts = most_popular_movie['title'].rsplit('(', 1)\n",
    "if len(title_parts) > 1:\n",
    "    movie_year = title_parts[1].rstrip(')')\n",
    "else:\n",
    "    movie_year = None\n",
    "\n",
    "# Print the result\n",
    "print(f\"The most popular movie based on average user ratings is: {most_popular_movie['title']} ({movie_year})\")\n"
   ]
  },
  {
   "cell_type": "code",
   "execution_count": 11,
   "id": "d19acfad",
   "metadata": {},
   "outputs": [
    {
     "name": "stdout",
     "output_type": "stream",
     "text": [
      "Correct options for top 5 popular movies based on number of user ratings:\n",
      "Pulp Fiction (1994): Correct\n",
      "Bad Boys (1995): Incorrect\n",
      "Silence of the Lambs, The (1991): Correct\n",
      "Matrix, The (1999): Correct\n"
     ]
    }
   ],
   "source": [
    "\n",
    "\n",
    "top_movies = filtered_df.sort_values(by='rating_count', ascending=False).head(5)\n",
    "\n",
    "\n",
    "movies_to_check = [\"Pulp Fiction (1994)\", \"Bad Boys (1995)\", \"Silence of the Lambs, The (1991)\", \"Matrix, The (1999)\"]\n",
    "\n",
    "\n",
    "correct_options = [movie in top_movies['title'].values for movie in movies_to_check]\n",
    "\n",
    "\n",
    "print(f\"Correct options for top 5 popular movies based on number of user ratings:\")\n",
    "for movie, is_correct in zip(movies_to_check, correct_options):\n",
    "    print(f\"{movie}: {'Correct' if is_correct else 'Incorrect'}\")\n"
   ]
  },
  {
   "cell_type": "code",
   "execution_count": 12,
   "id": "80611ba8",
   "metadata": {},
   "outputs": [
    {
     "name": "stdout",
     "output_type": "stream",
     "text": [
      "The third most popular Sci-Fi movie based on the number of user ratings is: Jurassic Park (1993)\n"
     ]
    }
   ],
   "source": [
    "\n",
    "\n",
    "\n",
    "sci_fi_movies = filtered_df[filtered_df['genres'].str.contains('Sci-Fi')]\n",
    "\n",
    "\n",
    "sorted_sci_fi_movies = sci_fi_movies.sort_values(by='rating_count', ascending=False)\n",
    "\n",
    "\n",
    "third_most_popular_sci_fi_movie = sorted_sci_fi_movies.iloc[2]['title']\n",
    "\n",
    "\n",
    "print(f\"The third most popular Sci-Fi movie based on the number of user ratings is: {third_most_popular_sci_fi_movie}\")\n"
   ]
  },
  {
   "cell_type": "code",
   "execution_count": 14,
   "id": "f233da6a",
   "metadata": {},
   "outputs": [
    {
     "name": "stdout",
     "output_type": "stream",
     "text": [
      "Index(['movieId', 'title', 'genres', 'rating_count', 'rating_mean'], dtype='object')\n"
     ]
    }
   ],
   "source": [
    "\n",
    "print(filtered_df.columns)\n"
   ]
  },
  {
   "cell_type": "code",
   "execution_count": 27,
   "id": "248d055b",
   "metadata": {},
   "outputs": [],
   "source": [
    "import pandas as pd\n",
    "import requests\n",
    "import numpy as np\n",
    "from bs4 import BeautifulSoup\n",
    "\n",
    "# Provided web scraping script\n",
    "def scrapper(imdbId):\n",
    "    id = str(int(imdbId))\n",
    "    n_zeroes = 7 - len(id)\n",
    "    new_id = \"0\" * n_zeroes + id\n",
    "    URL = f\"https://www.imdb.com/title/tt{new_id}/\"\n",
    "    request_header = {\n",
    "        'Content-Type': 'text/html; charset=UTF-8', \n",
    "        'User-Agent': 'Mozilla/5.0 (Windows NT 10.0; Win64; x64; rv:109.0) Gecko/20100101 Firefox/119.0', \n",
    "        'Accept-Encoding': 'gzip, deflate, br'\n",
    "    }\n",
    "    \n",
    "    response = requests.get(URL, headers=request_header)\n",
    "    soup = BeautifulSoup(response.text, 'html.parser')\n",
    "    \n",
    "\n",
    "    imdb_rating_element = soup.find('span', {'class': 'ipc-rating-star ipc-rating-star--baseAlt'})\n",
    "    \n",
    "\n",
    "    imdb_rating = imdb_rating_element.text if imdb_rating_element else np.nan\n",
    "    \n",
    "    return imdb_rating\n"
   ]
  },
  {
   "cell_type": "code",
   "execution_count": 30,
   "id": "39366149",
   "metadata": {},
   "outputs": [
    {
     "ename": "KeyError",
     "evalue": "'imdbId'",
     "output_type": "error",
     "traceback": [
      "\u001b[1;31m---------------------------------------------------------------------------\u001b[0m",
      "\u001b[1;31mKeyError\u001b[0m                                  Traceback (most recent call last)",
      "File \u001b[1;32m~\\anaconda3\\lib\\site-packages\\pandas\\core\\indexes\\base.py:3621\u001b[0m, in \u001b[0;36mIndex.get_loc\u001b[1;34m(self, key, method, tolerance)\u001b[0m\n\u001b[0;32m   3620\u001b[0m \u001b[38;5;28;01mtry\u001b[39;00m:\n\u001b[1;32m-> 3621\u001b[0m     \u001b[38;5;28;01mreturn\u001b[39;00m \u001b[38;5;28;43mself\u001b[39;49m\u001b[38;5;241;43m.\u001b[39;49m\u001b[43m_engine\u001b[49m\u001b[38;5;241;43m.\u001b[39;49m\u001b[43mget_loc\u001b[49m\u001b[43m(\u001b[49m\u001b[43mcasted_key\u001b[49m\u001b[43m)\u001b[49m\n\u001b[0;32m   3622\u001b[0m \u001b[38;5;28;01mexcept\u001b[39;00m \u001b[38;5;167;01mKeyError\u001b[39;00m \u001b[38;5;28;01mas\u001b[39;00m err:\n",
      "File \u001b[1;32m~\\anaconda3\\lib\\site-packages\\pandas\\_libs\\index.pyx:136\u001b[0m, in \u001b[0;36mpandas._libs.index.IndexEngine.get_loc\u001b[1;34m()\u001b[0m\n",
      "File \u001b[1;32m~\\anaconda3\\lib\\site-packages\\pandas\\_libs\\index.pyx:163\u001b[0m, in \u001b[0;36mpandas._libs.index.IndexEngine.get_loc\u001b[1;34m()\u001b[0m\n",
      "File \u001b[1;32mpandas\\_libs\\hashtable_class_helper.pxi:5198\u001b[0m, in \u001b[0;36mpandas._libs.hashtable.PyObjectHashTable.get_item\u001b[1;34m()\u001b[0m\n",
      "File \u001b[1;32mpandas\\_libs\\hashtable_class_helper.pxi:5206\u001b[0m, in \u001b[0;36mpandas._libs.hashtable.PyObjectHashTable.get_item\u001b[1;34m()\u001b[0m\n",
      "\u001b[1;31mKeyError\u001b[0m: 'imdbId'",
      "\nThe above exception was the direct cause of the following exception:\n",
      "\u001b[1;31mKeyError\u001b[0m                                  Traceback (most recent call last)",
      "Input \u001b[1;32mIn [30]\u001b[0m, in \u001b[0;36m<cell line: 12>\u001b[1;34m()\u001b[0m\n\u001b[0;32m     11\u001b[0m \u001b[38;5;66;03m# Iterate through movies in the DataFrame\u001b[39;00m\n\u001b[0;32m     12\u001b[0m \u001b[38;5;28;01mfor\u001b[39;00m index, row \u001b[38;5;129;01min\u001b[39;00m filtered_df\u001b[38;5;241m.\u001b[39miterrows():\n\u001b[1;32m---> 13\u001b[0m     imdb_id \u001b[38;5;241m=\u001b[39m \u001b[43mrow\u001b[49m\u001b[43m[\u001b[49m\u001b[38;5;124;43m'\u001b[39;49m\u001b[38;5;124;43mimdbId\u001b[39;49m\u001b[38;5;124;43m'\u001b[39;49m\u001b[43m]\u001b[49m\n\u001b[0;32m     15\u001b[0m     \u001b[38;5;66;03m# Use the web scraping function to get IMDb rating\u001b[39;00m\n\u001b[0;32m     16\u001b[0m     rating \u001b[38;5;241m=\u001b[39m scrapper(imdb_id)\n",
      "File \u001b[1;32m~\\anaconda3\\lib\\site-packages\\pandas\\core\\series.py:958\u001b[0m, in \u001b[0;36mSeries.__getitem__\u001b[1;34m(self, key)\u001b[0m\n\u001b[0;32m    955\u001b[0m     \u001b[38;5;28;01mreturn\u001b[39;00m \u001b[38;5;28mself\u001b[39m\u001b[38;5;241m.\u001b[39m_values[key]\n\u001b[0;32m    957\u001b[0m \u001b[38;5;28;01melif\u001b[39;00m key_is_scalar:\n\u001b[1;32m--> 958\u001b[0m     \u001b[38;5;28;01mreturn\u001b[39;00m \u001b[38;5;28;43mself\u001b[39;49m\u001b[38;5;241;43m.\u001b[39;49m\u001b[43m_get_value\u001b[49m\u001b[43m(\u001b[49m\u001b[43mkey\u001b[49m\u001b[43m)\u001b[49m\n\u001b[0;32m    960\u001b[0m \u001b[38;5;28;01mif\u001b[39;00m is_hashable(key):\n\u001b[0;32m    961\u001b[0m     \u001b[38;5;66;03m# Otherwise index.get_value will raise InvalidIndexError\u001b[39;00m\n\u001b[0;32m    962\u001b[0m     \u001b[38;5;28;01mtry\u001b[39;00m:\n\u001b[0;32m    963\u001b[0m         \u001b[38;5;66;03m# For labels that don't resolve as scalars like tuples and frozensets\u001b[39;00m\n",
      "File \u001b[1;32m~\\anaconda3\\lib\\site-packages\\pandas\\core\\series.py:1069\u001b[0m, in \u001b[0;36mSeries._get_value\u001b[1;34m(self, label, takeable)\u001b[0m\n\u001b[0;32m   1066\u001b[0m     \u001b[38;5;28;01mreturn\u001b[39;00m \u001b[38;5;28mself\u001b[39m\u001b[38;5;241m.\u001b[39m_values[label]\n\u001b[0;32m   1068\u001b[0m \u001b[38;5;66;03m# Similar to Index.get_value, but we do not fall back to positional\u001b[39;00m\n\u001b[1;32m-> 1069\u001b[0m loc \u001b[38;5;241m=\u001b[39m \u001b[38;5;28;43mself\u001b[39;49m\u001b[38;5;241;43m.\u001b[39;49m\u001b[43mindex\u001b[49m\u001b[38;5;241;43m.\u001b[39;49m\u001b[43mget_loc\u001b[49m\u001b[43m(\u001b[49m\u001b[43mlabel\u001b[49m\u001b[43m)\u001b[49m\n\u001b[0;32m   1070\u001b[0m \u001b[38;5;28;01mreturn\u001b[39;00m \u001b[38;5;28mself\u001b[39m\u001b[38;5;241m.\u001b[39mindex\u001b[38;5;241m.\u001b[39m_get_values_for_loc(\u001b[38;5;28mself\u001b[39m, loc, label)\n",
      "File \u001b[1;32m~\\anaconda3\\lib\\site-packages\\pandas\\core\\indexes\\base.py:3623\u001b[0m, in \u001b[0;36mIndex.get_loc\u001b[1;34m(self, key, method, tolerance)\u001b[0m\n\u001b[0;32m   3621\u001b[0m     \u001b[38;5;28;01mreturn\u001b[39;00m \u001b[38;5;28mself\u001b[39m\u001b[38;5;241m.\u001b[39m_engine\u001b[38;5;241m.\u001b[39mget_loc(casted_key)\n\u001b[0;32m   3622\u001b[0m \u001b[38;5;28;01mexcept\u001b[39;00m \u001b[38;5;167;01mKeyError\u001b[39;00m \u001b[38;5;28;01mas\u001b[39;00m err:\n\u001b[1;32m-> 3623\u001b[0m     \u001b[38;5;28;01mraise\u001b[39;00m \u001b[38;5;167;01mKeyError\u001b[39;00m(key) \u001b[38;5;28;01mfrom\u001b[39;00m \u001b[38;5;21;01merr\u001b[39;00m\n\u001b[0;32m   3624\u001b[0m \u001b[38;5;28;01mexcept\u001b[39;00m \u001b[38;5;167;01mTypeError\u001b[39;00m:\n\u001b[0;32m   3625\u001b[0m     \u001b[38;5;66;03m# If we have a listlike key, _check_indexing_error will raise\u001b[39;00m\n\u001b[0;32m   3626\u001b[0m     \u001b[38;5;66;03m#  InvalidIndexError. Otherwise we fall through and re-raise\u001b[39;00m\n\u001b[0;32m   3627\u001b[0m     \u001b[38;5;66;03m#  the TypeError.\u001b[39;00m\n\u001b[0;32m   3628\u001b[0m     \u001b[38;5;28mself\u001b[39m\u001b[38;5;241m.\u001b[39m_check_indexing_error(key)\n",
      "\u001b[1;31mKeyError\u001b[0m: 'imdbId'"
     ]
    }
   ],
   "source": [
    "import pandas as pd\n",
    "import requests\n",
    "import numpy as np\n",
    "from bs4 import BeautifulSoup\n",
    "\n",
    "\n",
    "imdb_data = []\n",
    "\n",
    "\n",
    "for index, row in filtered_df.iterrows():\n",
    "    imdb_id = row['imdbId']\n",
    "    \n",
    "\n",
    "    rating = scrapper(imdb_id)\n",
    "    \n",
    "\n",
    "    \n",
    "\n",
    "    imdb_data.append({'movieId': row['movieId'], 'imdb_rating': rating, 'reviews': reviews})\n",
    "\n",
    "imdb_ratings_df = pd.DataFrame(imdb_data)\n",
    "\n",
    "\n",
    "highest_imdb_rating_movie = imdb_ratings_df.loc[imdb_ratings_df['imdb_rating'].idxmax(), 'movieId']\n",
    "\n",
    "\n",
    "print(f\"The movieId of the movie with the highest IMDb rating is: {highest_imdb_rating_movie}\")\n",
    "\n"
   ]
  },
  {
   "cell_type": "code",
   "execution_count": 29,
   "id": "5e52ef12",
   "metadata": {},
   "outputs": [
    {
     "name": "stdout",
     "output_type": "stream",
     "text": [
      "Index(['movieId', 'title', 'genres', 'rating_count', 'rating_mean'], dtype='object')\n"
     ]
    }
   ],
   "source": [
    "print(filtered_df.columns)\n"
   ]
  },
  {
   "cell_type": "code",
   "execution_count": 31,
   "id": "806b8f8d",
   "metadata": {},
   "outputs": [
    {
     "name": "stdout",
     "output_type": "stream",
     "text": [
      "   movieId                    title  \\\n",
      "0        1         Toy Story (1995)   \n",
      "1        2           Jumanji (1995)   \n",
      "2        3  Grumpier Old Men (1995)   \n",
      "5        6              Heat (1995)   \n",
      "6        7           Sabrina (1995)   \n",
      "\n",
      "                                        genres  rating_count  rating_mean  \\\n",
      "0  Adventure|Animation|Children|Comedy|Fantasy           215     3.920930   \n",
      "1                   Adventure|Children|Fantasy           110     3.431818   \n",
      "2                               Comedy|Romance            52     3.259615   \n",
      "5                        Action|Crime|Thriller           102     3.946078   \n",
      "6                               Comedy|Romance            54     3.185185   \n",
      "\n",
      "   imdbId  \n",
      "0  114709  \n",
      "1  113497  \n",
      "2  113228  \n",
      "5  113277  \n",
      "6  114319  \n"
     ]
    }
   ],
   "source": [
    "import pandas as pd\n",
    "\n",
    "\n",
    "ratings_df = pd.read_csv('ratings.csv')\n",
    "movies_df = pd.read_csv('movies.csv')\n",
    "links_df = pd.read_csv('links.csv')\n",
    "\n",
    "grouped_ratings = ratings_df.groupby('movieId').agg({'rating': ['count', 'mean']}).reset_index()\n",
    "grouped_ratings.columns = ['movieId', 'rating_count', 'rating_mean']\n",
    "\n",
    "\n",
    "merged_df = pd.merge(movies_df, grouped_ratings, on='movieId', how='inner')\n",
    "\n",
    "merged_df = pd.merge(merged_df, links_df[['movieId', 'imdbId']], on='movieId', how='inner')\n",
    "\n",
    "\n",
    "filtered_df = merged_df[merged_df['rating_count'] > 50]\n",
    "\n",
    "\n",
    "print(filtered_df.head())\n"
   ]
  },
  {
   "cell_type": "code",
   "execution_count": 33,
   "id": "5801e929",
   "metadata": {},
   "outputs": [
    {
     "name": "stdout",
     "output_type": "stream",
     "text": [
      "The movieId of the movie with the highest IMDb rating is: 318\n"
     ]
    }
   ],
   "source": [
    "\n",
    "highest_imdb_rating_movie = filtered_df.loc[filtered_df['rating_mean'].idxmax(), 'movieId']\n",
    "print(f\"The movieId of the movie with the highest IMDb rating is: {highest_imdb_rating_movie}\")\n"
   ]
  },
  {
   "cell_type": "code",
   "execution_count": 35,
   "id": "d89f1f95",
   "metadata": {},
   "outputs": [
    {
     "name": "stdout",
     "output_type": "stream",
     "text": [
      "The movieId of the highest-rated Sci-Fi movie is: 318\n"
     ]
    }
   ],
   "source": [
    "\n",
    "movie_id_to_check = 277\n",
    "\n",
    "if movie_id_to_check in filtered_df.index:\n",
    "    highest_scifi_imdb_rating_movie = filtered_df.loc[movie_id_to_check, 'movieId']\n",
    "    print(f\"The movieId of the highest-rated Sci-Fi movie is: {highest_scifi_imdb_rating_movie}\")\n",
    "else:\n",
    "    print(f\"MovieId {movie_id_to_check} not found in the DataFrame.\")\n",
    "\n"
   ]
  },
  {
   "cell_type": "code",
   "execution_count": null,
   "id": "63f8d369",
   "metadata": {},
   "outputs": [],
   "source": []
  }
 ],
 "metadata": {
  "kernelspec": {
   "display_name": "Python 3 (ipykernel)",
   "language": "python",
   "name": "python3"
  },
  "language_info": {
   "codemirror_mode": {
    "name": "ipython",
    "version": 3
   },
   "file_extension": ".py",
   "mimetype": "text/x-python",
   "name": "python",
   "nbconvert_exporter": "python",
   "pygments_lexer": "ipython3",
   "version": "3.9.12"
  }
 },
 "nbformat": 4,
 "nbformat_minor": 5
}
